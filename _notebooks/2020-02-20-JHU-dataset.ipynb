{
 "cells": [
  {
   "cell_type": "code",
   "execution_count": 79,
   "metadata": {},
   "outputs": [],
   "source": [
    "import pandas as pd\n",
    "import os\n",
    "from collections import Counter\n",
    "from tqdm import tqdm"
   ]
  },
  {
   "cell_type": "code",
   "execution_count": 80,
   "metadata": {},
   "outputs": [
    {
     "name": "stdout",
     "output_type": "stream",
     "text": [
      "/media/thedrowsywinger/2A24A59224A56195/Poralekha/github/COVID-19/csse_covid_19_data/csse_covid_19_daily_reports\n"
     ]
    }
   ],
   "source": [
    "cd /media/thedrowsywinger/2A24A59224A56195/Poralekha/github/COVID-19/csse_covid_19_data/csse_covid_19_daily_reports"
   ]
  },
  {
   "cell_type": "code",
   "execution_count": 81,
   "metadata": {},
   "outputs": [
    {
     "name": "stdout",
     "output_type": "stream",
     "text": [
      "\u001b[0m\u001b[01;32m01-22-2020.csv\u001b[0m*  \u001b[01;32m02-07-2020.csv\u001b[0m*  \u001b[01;32m02-23-2020.csv\u001b[0m*  \u001b[01;32m03-10-2020.csv\u001b[0m*\r\n",
      "\u001b[01;32m01-23-2020.csv\u001b[0m*  \u001b[01;32m02-08-2020.csv\u001b[0m*  \u001b[01;32m02-24-2020.csv\u001b[0m*  \u001b[01;32m03-11-2020.csv\u001b[0m*\r\n",
      "\u001b[01;32m01-24-2020.csv\u001b[0m*  \u001b[01;32m02-09-2020.csv\u001b[0m*  \u001b[01;32m02-25-2020.csv\u001b[0m*  \u001b[01;32m03-12-2020.csv\u001b[0m*\r\n",
      "\u001b[01;32m01-25-2020.csv\u001b[0m*  \u001b[01;32m02-10-2020.csv\u001b[0m*  \u001b[01;32m02-26-2020.csv\u001b[0m*  \u001b[01;32m03-13-2020.csv\u001b[0m*\r\n",
      "\u001b[01;32m01-26-2020.csv\u001b[0m*  \u001b[01;32m02-11-2020.csv\u001b[0m*  \u001b[01;32m02-27-2020.csv\u001b[0m*  \u001b[01;32m03-14-2020.csv\u001b[0m*\r\n",
      "\u001b[01;32m01-27-2020.csv\u001b[0m*  \u001b[01;32m02-12-2020.csv\u001b[0m*  \u001b[01;32m02-28-2020.csv\u001b[0m*  \u001b[01;32m03-15-2020.csv\u001b[0m*\r\n",
      "\u001b[01;32m01-28-2020.csv\u001b[0m*  \u001b[01;32m02-13-2020.csv\u001b[0m*  \u001b[01;32m02-29-2020.csv\u001b[0m*  \u001b[01;32m03-16-2020.csv\u001b[0m*\r\n",
      "\u001b[01;32m01-29-2020.csv\u001b[0m*  \u001b[01;32m02-14-2020.csv\u001b[0m*  \u001b[01;32m03-01-2020.csv\u001b[0m*  \u001b[01;32m03-17-2020.csv\u001b[0m*\r\n",
      "\u001b[01;32m01-30-2020.csv\u001b[0m*  \u001b[01;32m02-15-2020.csv\u001b[0m*  \u001b[01;32m03-02-2020.csv\u001b[0m*  \u001b[01;32m03-18-2020.csv\u001b[0m*\r\n",
      "\u001b[01;32m01-31-2020.csv\u001b[0m*  \u001b[01;32m02-16-2020.csv\u001b[0m*  \u001b[01;32m03-03-2020.csv\u001b[0m*  \u001b[01;32m03-19-2020.csv\u001b[0m*\r\n",
      "\u001b[01;32m02-01-2020.csv\u001b[0m*  \u001b[01;32m02-17-2020.csv\u001b[0m*  \u001b[01;32m03-04-2020.csv\u001b[0m*  \u001b[01;32m03-20-2020.csv\u001b[0m*\r\n",
      "\u001b[01;32m02-02-2020.csv\u001b[0m*  \u001b[01;32m02-18-2020.csv\u001b[0m*  \u001b[01;32m03-05-2020.csv\u001b[0m*  \u001b[01;32m03-21-2020.csv\u001b[0m*\r\n",
      "\u001b[01;32m02-03-2020.csv\u001b[0m*  \u001b[01;32m02-19-2020.csv\u001b[0m*  \u001b[01;32m03-06-2020.csv\u001b[0m*  \u001b[01;32mREADME.md\u001b[0m*\r\n",
      "\u001b[01;32m02-04-2020.csv\u001b[0m*  \u001b[01;32m02-20-2020.csv\u001b[0m*  \u001b[01;32m03-07-2020.csv\u001b[0m*\r\n",
      "\u001b[01;32m02-05-2020.csv\u001b[0m*  \u001b[01;32m02-21-2020.csv\u001b[0m*  \u001b[01;32m03-08-2020.csv\u001b[0m*\r\n",
      "\u001b[01;32m02-06-2020.csv\u001b[0m*  \u001b[01;32m02-22-2020.csv\u001b[0m*  \u001b[01;32m03-09-2020.csv\u001b[0m*\r\n"
     ]
    }
   ],
   "source": [
    "ls"
   ]
  },
  {
   "cell_type": "code",
   "execution_count": 82,
   "metadata": {},
   "outputs": [],
   "source": [
    "a = pd.read_csv(\"/media/thedrowsywinger/2A24A59224A56195/Poralekha/github/COVID-19/csse_covid_19_data/csse_covid_19_daily_reports/01-23-2020.csv\")"
   ]
  },
  {
   "cell_type": "code",
   "execution_count": 83,
   "metadata": {},
   "outputs": [
    {
     "data": {
      "text/html": [
       "<div>\n",
       "<style scoped>\n",
       "    .dataframe tbody tr th:only-of-type {\n",
       "        vertical-align: middle;\n",
       "    }\n",
       "\n",
       "    .dataframe tbody tr th {\n",
       "        vertical-align: top;\n",
       "    }\n",
       "\n",
       "    .dataframe thead th {\n",
       "        text-align: right;\n",
       "    }\n",
       "</style>\n",
       "<table border=\"1\" class=\"dataframe\">\n",
       "  <thead>\n",
       "    <tr style=\"text-align: right;\">\n",
       "      <th></th>\n",
       "      <th>Province/State</th>\n",
       "      <th>Country/Region</th>\n",
       "      <th>Last Update</th>\n",
       "      <th>Confirmed</th>\n",
       "      <th>Deaths</th>\n",
       "      <th>Recovered</th>\n",
       "    </tr>\n",
       "  </thead>\n",
       "  <tbody>\n",
       "    <tr>\n",
       "      <th>0</th>\n",
       "      <td>Anhui</td>\n",
       "      <td>Mainland China</td>\n",
       "      <td>1/23/20 17:00</td>\n",
       "      <td>9.0</td>\n",
       "      <td>NaN</td>\n",
       "      <td>NaN</td>\n",
       "    </tr>\n",
       "    <tr>\n",
       "      <th>1</th>\n",
       "      <td>Beijing</td>\n",
       "      <td>Mainland China</td>\n",
       "      <td>1/23/20 17:00</td>\n",
       "      <td>22.0</td>\n",
       "      <td>NaN</td>\n",
       "      <td>NaN</td>\n",
       "    </tr>\n",
       "    <tr>\n",
       "      <th>2</th>\n",
       "      <td>Chongqing</td>\n",
       "      <td>Mainland China</td>\n",
       "      <td>1/23/20 17:00</td>\n",
       "      <td>9.0</td>\n",
       "      <td>NaN</td>\n",
       "      <td>NaN</td>\n",
       "    </tr>\n",
       "    <tr>\n",
       "      <th>3</th>\n",
       "      <td>Fujian</td>\n",
       "      <td>Mainland China</td>\n",
       "      <td>1/23/20 17:00</td>\n",
       "      <td>5.0</td>\n",
       "      <td>NaN</td>\n",
       "      <td>NaN</td>\n",
       "    </tr>\n",
       "    <tr>\n",
       "      <th>4</th>\n",
       "      <td>Gansu</td>\n",
       "      <td>Mainland China</td>\n",
       "      <td>1/23/20 17:00</td>\n",
       "      <td>2.0</td>\n",
       "      <td>NaN</td>\n",
       "      <td>NaN</td>\n",
       "    </tr>\n",
       "  </tbody>\n",
       "</table>\n",
       "</div>"
      ],
      "text/plain": [
       "  Province/State  Country/Region    Last Update  Confirmed  Deaths  Recovered\n",
       "0          Anhui  Mainland China  1/23/20 17:00        9.0     NaN        NaN\n",
       "1        Beijing  Mainland China  1/23/20 17:00       22.0     NaN        NaN\n",
       "2      Chongqing  Mainland China  1/23/20 17:00        9.0     NaN        NaN\n",
       "3         Fujian  Mainland China  1/23/20 17:00        5.0     NaN        NaN\n",
       "4          Gansu  Mainland China  1/23/20 17:00        2.0     NaN        NaN"
      ]
     },
     "execution_count": 83,
     "metadata": {},
     "output_type": "execute_result"
    }
   ],
   "source": [
    "a.head()"
   ]
  },
  {
   "cell_type": "code",
   "execution_count": 84,
   "metadata": {},
   "outputs": [],
   "source": [
    "province_list = []\n",
    "for i in a['Province/State']:\n",
    "    province_list.append(i)"
   ]
  },
  {
   "cell_type": "code",
   "execution_count": 85,
   "metadata": {},
   "outputs": [
    {
     "data": {
      "text/plain": [
       "46"
      ]
     },
     "execution_count": 85,
     "metadata": {},
     "output_type": "execute_result"
    }
   ],
   "source": [
    "len(province_list)"
   ]
  },
  {
   "cell_type": "code",
   "execution_count": 86,
   "metadata": {},
   "outputs": [],
   "source": [
    "province_counts = Counter(province_list)"
   ]
  },
  {
   "cell_type": "code",
   "execution_count": 87,
   "metadata": {},
   "outputs": [
    {
     "data": {
      "text/plain": [
       "Counter({'Anhui': 1,\n",
       "         'Beijing': 1,\n",
       "         'Chongqing': 1,\n",
       "         'Fujian': 1,\n",
       "         'Gansu': 1,\n",
       "         'Guangdong': 1,\n",
       "         'Guangxi': 1,\n",
       "         'Guizhou': 1,\n",
       "         'Hainan': 1,\n",
       "         'Hebei': 1,\n",
       "         'Heilongjiang': 1,\n",
       "         'Henan': 1,\n",
       "         'Hong Kong': 1,\n",
       "         'Hubei': 1,\n",
       "         'Hunan': 1,\n",
       "         'Inner Mongolia': 1,\n",
       "         'Jiangsu': 1,\n",
       "         'Jiangxi': 1,\n",
       "         'Jilin': 1,\n",
       "         'Liaoning': 1,\n",
       "         'Macau': 1,\n",
       "         'Ningxia': 1,\n",
       "         'Qinghai': 1,\n",
       "         'Shaanxi': 1,\n",
       "         'Shandong': 1,\n",
       "         'Shanghai': 1,\n",
       "         'Shanxi': 1,\n",
       "         'Sichuan': 1,\n",
       "         'Taiwan': 1,\n",
       "         'Tianjin': 1,\n",
       "         'Tibet': 1,\n",
       "         'Washington': 1,\n",
       "         'Xinjiang': 1,\n",
       "         'Yunnan': 1,\n",
       "         'Zhejiang': 1,\n",
       "         nan: 11})"
      ]
     },
     "execution_count": 87,
     "metadata": {},
     "output_type": "execute_result"
    }
   ],
   "source": [
    "province_counts"
   ]
  },
  {
   "cell_type": "code",
   "execution_count": 88,
   "metadata": {},
   "outputs": [],
   "source": [
    "list_of_all_files = os.listdir()"
   ]
  },
  {
   "cell_type": "code",
   "execution_count": 89,
   "metadata": {},
   "outputs": [
    {
     "data": {
      "text/plain": [
       "['02-07-2020.csv',\n",
       " '02-25-2020.csv',\n",
       " '.gitignore',\n",
       " '01-22-2020.csv',\n",
       " '01-23-2020.csv',\n",
       " '01-24-2020.csv',\n",
       " '01-25-2020.csv',\n",
       " '01-26-2020.csv',\n",
       " '01-27-2020.csv',\n",
       " '01-28-2020.csv',\n",
       " '01-29-2020.csv',\n",
       " '01-30-2020.csv',\n",
       " '01-31-2020.csv',\n",
       " '02-01-2020.csv',\n",
       " '02-02-2020.csv',\n",
       " '02-03-2020.csv',\n",
       " '02-04-2020.csv',\n",
       " '02-05-2020.csv',\n",
       " '02-06-2020.csv',\n",
       " '02-08-2020.csv',\n",
       " '02-09-2020.csv',\n",
       " '02-10-2020.csv',\n",
       " '02-11-2020.csv',\n",
       " '02-12-2020.csv',\n",
       " '02-13-2020.csv',\n",
       " '02-14-2020.csv',\n",
       " '02-15-2020.csv',\n",
       " '02-16-2020.csv',\n",
       " '02-17-2020.csv',\n",
       " '02-18-2020.csv',\n",
       " '02-19-2020.csv',\n",
       " '02-20-2020.csv',\n",
       " '02-21-2020.csv',\n",
       " '02-22-2020.csv',\n",
       " '02-23-2020.csv',\n",
       " '02-24-2020.csv',\n",
       " '02-26-2020.csv',\n",
       " '02-27-2020.csv',\n",
       " '02-28-2020.csv',\n",
       " '02-29-2020.csv',\n",
       " '03-01-2020.csv',\n",
       " '03-02-2020.csv',\n",
       " '03-03-2020.csv',\n",
       " '03-04-2020.csv',\n",
       " '03-05-2020.csv',\n",
       " '03-06-2020.csv',\n",
       " '03-07-2020.csv',\n",
       " '03-08-2020.csv',\n",
       " '03-09-2020.csv',\n",
       " '03-10-2020.csv',\n",
       " '03-11-2020.csv',\n",
       " '03-12-2020.csv',\n",
       " '03-13-2020.csv',\n",
       " '03-14-2020.csv',\n",
       " '03-15-2020.csv',\n",
       " '03-16-2020.csv',\n",
       " '03-17-2020.csv',\n",
       " '03-18-2020.csv',\n",
       " '03-19-2020.csv',\n",
       " '03-20-2020.csv',\n",
       " '03-21-2020.csv',\n",
       " 'README.md']"
      ]
     },
     "execution_count": 89,
     "metadata": {},
     "output_type": "execute_result"
    }
   ],
   "source": [
    "list_of_all_files"
   ]
  },
  {
   "cell_type": "code",
   "execution_count": 90,
   "metadata": {},
   "outputs": [],
   "source": [
    "actual_list = []\n",
    "for i in list_of_all_files:\n",
    "    if \"csv\" in i:\n",
    "        actual_list.append(i)"
   ]
  },
  {
   "cell_type": "code",
   "execution_count": 91,
   "metadata": {},
   "outputs": [
    {
     "name": "stderr",
     "output_type": "stream",
     "text": [
      "100%|██████████| 60/60 [00:00<00:00, 197.09it/s]\n"
     ]
    }
   ],
   "source": [
    "main = []\n",
    "province_list = []\n",
    "country_list = []\n",
    "confirmed = []\n",
    "death_count = []\n",
    "date_list = []\n",
    "for i in tqdm(actual_list):\n",
    "    a = pd.read_csv(i)\n",
    "#     print(i)\n",
    "#     date_list.append(str(i[:-4]))\n",
    "    for i in a['Province/State']:\n",
    "        province_list.append(i)\n",
    "    for i in a['Country/Region']:\n",
    "        country_list.append(i)\n",
    "    for i in a['Confirmed']:\n",
    "        confirmed.append(i)\n",
    "    for i in a['Deaths']:\n",
    "        death_count.append(i)\n",
    "    \n",
    "    "
   ]
  },
  {
   "cell_type": "code",
   "execution_count": 94,
   "metadata": {},
   "outputs": [],
   "source": [
    "main_df = pd.DataFrame({\n",
    "#     'date': date_list,\n",
    "    'state': province_list,\n",
    "    'country':country_list,\n",
    "    'confirmed_case': confirmed,\n",
    "})"
   ]
  },
  {
   "cell_type": "code",
   "execution_count": 95,
   "metadata": {},
   "outputs": [
    {
     "data": {
      "text/plain": [
       "0"
      ]
     },
     "execution_count": 95,
     "metadata": {},
     "output_type": "execute_result"
    }
   ],
   "source": [
    "len(date_list)"
   ]
  },
  {
   "cell_type": "code",
   "execution_count": 39,
   "metadata": {},
   "outputs": [
    {
     "data": {
      "text/plain": [
       "14"
      ]
     },
     "execution_count": 39,
     "metadata": {},
     "output_type": "execute_result"
    }
   ],
   "source": [
    "Counter(country_list)['Bangladesh']"
   ]
  },
  {
   "cell_type": "code",
   "execution_count": 57,
   "metadata": {},
   "outputs": [
    {
     "name": "stdout",
     "output_type": "stream",
     "text": [
      "3.0\n",
      "3.0\n",
      "3.0\n",
      "3.0\n",
      "3.0\n",
      "3.0\n",
      "3.0\n",
      "5.0\n",
      "8.0\n",
      "10.0\n",
      "14.0\n",
      "17.0\n",
      "20.0\n",
      "25.0\n"
     ]
    }
   ],
   "source": [
    "total_confirmed_case = 0.0\n",
    "for index, row in main_df.iterrows():\n",
    "    if row['country'] == \"Bangladesh\":\n",
    "        print(row['confirmed_case'])\n",
    "        total_confirmed_case += row['confirmed_case']\n",
    "# print(total_confirmed_case)"
   ]
  },
  {
   "cell_type": "code",
   "execution_count": 50,
   "metadata": {},
   "outputs": [
    {
     "name": "stdout",
     "output_type": "stream",
     "text": [
      "7617\n"
     ]
    }
   ],
   "source": [
    "counter = 0\n",
    "for i in death_count:\n",
    "    if i == \"NaN\":\n",
    "        pass\n",
    "    else:\n",
    "        counter+=1\n",
    "print(counter)"
   ]
  },
  {
   "cell_type": "code",
   "execution_count": null,
   "metadata": {},
   "outputs": [],
   "source": []
  },
  {
   "cell_type": "code",
   "execution_count": null,
   "metadata": {},
   "outputs": [],
   "source": []
  }
 ],
 "metadata": {
  "kernelspec": {
   "display_name": "Python 3",
   "language": "python",
   "name": "python3"
  },
  "language_info": {
   "codemirror_mode": {
    "name": "ipython",
    "version": 3
   },
   "file_extension": ".py",
   "mimetype": "text/x-python",
   "name": "python",
   "nbconvert_exporter": "python",
   "pygments_lexer": "ipython3",
   "version": "3.7.4"
  }
 },
 "nbformat": 4,
 "nbformat_minor": 2
}
