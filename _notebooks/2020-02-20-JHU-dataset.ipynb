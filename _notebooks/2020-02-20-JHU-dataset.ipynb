{
 "cells": [
  {
   "cell_type": "markdown",
   "metadata": {},
   "source": [
    "### This dataset has been taken from: https://github.com/CSSEGISandData/COVID-19"
   ]
  },
  {
   "cell_type": "code",
   "execution_count": 224,
   "metadata": {},
   "outputs": [],
   "source": [
    "import pandas as pd\n",
    "import os\n",
    "from collections import Counter\n",
    "from tqdm import tqdm\n",
    "%matplotlib inline\n",
    "import matplotlib.pyplot as plt\n",
    "import seaborn as sns"
   ]
  },
  {
   "cell_type": "code",
   "execution_count": 225,
   "metadata": {},
   "outputs": [
    {
     "name": "stdout",
     "output_type": "stream",
     "text": [
      "/media/thedrowsywinger/2A24A59224A56195/Poralekha/github/COVID-19/csse_covid_19_data/csse_covid_19_daily_reports\n"
     ]
    }
   ],
   "source": [
    "cd /media/thedrowsywinger/2A24A59224A56195/Poralekha/github/COVID-19/csse_covid_19_data/csse_covid_19_daily_reports"
   ]
  },
  {
   "cell_type": "code",
   "execution_count": 226,
   "metadata": {},
   "outputs": [
    {
     "name": "stdout",
     "output_type": "stream",
     "text": [
      "\u001b[0m\u001b[01;32m01-22-2020.csv\u001b[0m*  \u001b[01;32m02-07-2020.csv\u001b[0m*  \u001b[01;32m02-23-2020.csv\u001b[0m*  \u001b[01;32m03-10-2020.csv\u001b[0m*\r\n",
      "\u001b[01;32m01-23-2020.csv\u001b[0m*  \u001b[01;32m02-08-2020.csv\u001b[0m*  \u001b[01;32m02-24-2020.csv\u001b[0m*  \u001b[01;32m03-11-2020.csv\u001b[0m*\r\n",
      "\u001b[01;32m01-24-2020.csv\u001b[0m*  \u001b[01;32m02-09-2020.csv\u001b[0m*  \u001b[01;32m02-25-2020.csv\u001b[0m*  \u001b[01;32m03-12-2020.csv\u001b[0m*\r\n",
      "\u001b[01;32m01-25-2020.csv\u001b[0m*  \u001b[01;32m02-10-2020.csv\u001b[0m*  \u001b[01;32m02-26-2020.csv\u001b[0m*  \u001b[01;32m03-13-2020.csv\u001b[0m*\r\n",
      "\u001b[01;32m01-26-2020.csv\u001b[0m*  \u001b[01;32m02-11-2020.csv\u001b[0m*  \u001b[01;32m02-27-2020.csv\u001b[0m*  \u001b[01;32m03-14-2020.csv\u001b[0m*\r\n",
      "\u001b[01;32m01-27-2020.csv\u001b[0m*  \u001b[01;32m02-12-2020.csv\u001b[0m*  \u001b[01;32m02-28-2020.csv\u001b[0m*  \u001b[01;32m03-15-2020.csv\u001b[0m*\r\n",
      "\u001b[01;32m01-28-2020.csv\u001b[0m*  \u001b[01;32m02-13-2020.csv\u001b[0m*  \u001b[01;32m02-29-2020.csv\u001b[0m*  \u001b[01;32m03-16-2020.csv\u001b[0m*\r\n",
      "\u001b[01;32m01-29-2020.csv\u001b[0m*  \u001b[01;32m02-14-2020.csv\u001b[0m*  \u001b[01;32m03-01-2020.csv\u001b[0m*  \u001b[01;32m03-17-2020.csv\u001b[0m*\r\n",
      "\u001b[01;32m01-30-2020.csv\u001b[0m*  \u001b[01;32m02-15-2020.csv\u001b[0m*  \u001b[01;32m03-02-2020.csv\u001b[0m*  \u001b[01;32m03-18-2020.csv\u001b[0m*\r\n",
      "\u001b[01;32m01-31-2020.csv\u001b[0m*  \u001b[01;32m02-16-2020.csv\u001b[0m*  \u001b[01;32m03-03-2020.csv\u001b[0m*  \u001b[01;32m03-19-2020.csv\u001b[0m*\r\n",
      "\u001b[01;32m02-01-2020.csv\u001b[0m*  \u001b[01;32m02-17-2020.csv\u001b[0m*  \u001b[01;32m03-04-2020.csv\u001b[0m*  \u001b[01;32m03-20-2020.csv\u001b[0m*\r\n",
      "\u001b[01;32m02-02-2020.csv\u001b[0m*  \u001b[01;32m02-18-2020.csv\u001b[0m*  \u001b[01;32m03-05-2020.csv\u001b[0m*  \u001b[01;32m03-21-2020.csv\u001b[0m*\r\n",
      "\u001b[01;32m02-03-2020.csv\u001b[0m*  \u001b[01;32m02-19-2020.csv\u001b[0m*  \u001b[01;32m03-06-2020.csv\u001b[0m*  \u001b[01;32m03-22-2020.csv\u001b[0m*\r\n",
      "\u001b[01;32m02-04-2020.csv\u001b[0m*  \u001b[01;32m02-20-2020.csv\u001b[0m*  \u001b[01;32m03-07-2020.csv\u001b[0m*  \u001b[01;32mREADME.md\u001b[0m*\r\n",
      "\u001b[01;32m02-05-2020.csv\u001b[0m*  \u001b[01;32m02-21-2020.csv\u001b[0m*  \u001b[01;32m03-08-2020.csv\u001b[0m*\r\n",
      "\u001b[01;32m02-06-2020.csv\u001b[0m*  \u001b[01;32m02-22-2020.csv\u001b[0m*  \u001b[01;32m03-09-2020.csv\u001b[0m*\r\n"
     ]
    }
   ],
   "source": [
    "ls"
   ]
  },
  {
   "cell_type": "code",
   "execution_count": 227,
   "metadata": {},
   "outputs": [],
   "source": [
    "a = pd.read_csv(\"/media/thedrowsywinger/2A24A59224A56195/Poralekha/github/COVID-19/csse_covid_19_data/csse_covid_19_daily_reports/01-23-2020.csv\")"
   ]
  },
  {
   "cell_type": "markdown",
   "metadata": {},
   "source": [
    "What each CSV file looks like"
   ]
  },
  {
   "cell_type": "code",
   "execution_count": 6,
   "metadata": {},
   "outputs": [
    {
     "data": {
      "text/html": [
       "<div>\n",
       "<style scoped>\n",
       "    .dataframe tbody tr th:only-of-type {\n",
       "        vertical-align: middle;\n",
       "    }\n",
       "\n",
       "    .dataframe tbody tr th {\n",
       "        vertical-align: top;\n",
       "    }\n",
       "\n",
       "    .dataframe thead th {\n",
       "        text-align: right;\n",
       "    }\n",
       "</style>\n",
       "<table border=\"1\" class=\"dataframe\">\n",
       "  <thead>\n",
       "    <tr style=\"text-align: right;\">\n",
       "      <th></th>\n",
       "      <th>Province/State</th>\n",
       "      <th>Country/Region</th>\n",
       "      <th>Last Update</th>\n",
       "      <th>Confirmed</th>\n",
       "      <th>Deaths</th>\n",
       "      <th>Recovered</th>\n",
       "    </tr>\n",
       "  </thead>\n",
       "  <tbody>\n",
       "    <tr>\n",
       "      <th>0</th>\n",
       "      <td>Anhui</td>\n",
       "      <td>Mainland China</td>\n",
       "      <td>1/23/20 17:00</td>\n",
       "      <td>9.0</td>\n",
       "      <td>NaN</td>\n",
       "      <td>NaN</td>\n",
       "    </tr>\n",
       "    <tr>\n",
       "      <th>1</th>\n",
       "      <td>Beijing</td>\n",
       "      <td>Mainland China</td>\n",
       "      <td>1/23/20 17:00</td>\n",
       "      <td>22.0</td>\n",
       "      <td>NaN</td>\n",
       "      <td>NaN</td>\n",
       "    </tr>\n",
       "    <tr>\n",
       "      <th>2</th>\n",
       "      <td>Chongqing</td>\n",
       "      <td>Mainland China</td>\n",
       "      <td>1/23/20 17:00</td>\n",
       "      <td>9.0</td>\n",
       "      <td>NaN</td>\n",
       "      <td>NaN</td>\n",
       "    </tr>\n",
       "    <tr>\n",
       "      <th>3</th>\n",
       "      <td>Fujian</td>\n",
       "      <td>Mainland China</td>\n",
       "      <td>1/23/20 17:00</td>\n",
       "      <td>5.0</td>\n",
       "      <td>NaN</td>\n",
       "      <td>NaN</td>\n",
       "    </tr>\n",
       "    <tr>\n",
       "      <th>4</th>\n",
       "      <td>Gansu</td>\n",
       "      <td>Mainland China</td>\n",
       "      <td>1/23/20 17:00</td>\n",
       "      <td>2.0</td>\n",
       "      <td>NaN</td>\n",
       "      <td>NaN</td>\n",
       "    </tr>\n",
       "  </tbody>\n",
       "</table>\n",
       "</div>"
      ],
      "text/plain": [
       "  Province/State  Country/Region    Last Update  Confirmed  Deaths  Recovered\n",
       "0          Anhui  Mainland China  1/23/20 17:00        9.0     NaN        NaN\n",
       "1        Beijing  Mainland China  1/23/20 17:00       22.0     NaN        NaN\n",
       "2      Chongqing  Mainland China  1/23/20 17:00        9.0     NaN        NaN\n",
       "3         Fujian  Mainland China  1/23/20 17:00        5.0     NaN        NaN\n",
       "4          Gansu  Mainland China  1/23/20 17:00        2.0     NaN        NaN"
      ]
     },
     "execution_count": 6,
     "metadata": {},
     "output_type": "execute_result"
    }
   ],
   "source": [
    "a.head()"
   ]
  },
  {
   "cell_type": "code",
   "execution_count": 229,
   "metadata": {},
   "outputs": [],
   "source": [
    "province_list = []\n",
    "for i in a['Province/State']:\n",
    "    province_list.append(i)"
   ]
  },
  {
   "cell_type": "code",
   "execution_count": 230,
   "metadata": {},
   "outputs": [
    {
     "data": {
      "text/plain": [
       "46"
      ]
     },
     "execution_count": 230,
     "metadata": {},
     "output_type": "execute_result"
    }
   ],
   "source": [
    "len(province_list)"
   ]
  },
  {
   "cell_type": "code",
   "execution_count": 9,
   "metadata": {},
   "outputs": [],
   "source": [
    "province_counts = Counter(province_list)"
   ]
  },
  {
   "cell_type": "code",
   "execution_count": 10,
   "metadata": {},
   "outputs": [
    {
     "data": {
      "text/plain": [
       "Counter({'Anhui': 1,\n",
       "         'Beijing': 1,\n",
       "         'Chongqing': 1,\n",
       "         'Fujian': 1,\n",
       "         'Gansu': 1,\n",
       "         'Guangdong': 1,\n",
       "         'Guangxi': 1,\n",
       "         'Guizhou': 1,\n",
       "         'Hainan': 1,\n",
       "         'Hebei': 1,\n",
       "         'Heilongjiang': 1,\n",
       "         'Henan': 1,\n",
       "         'Hong Kong': 1,\n",
       "         'Hubei': 1,\n",
       "         'Hunan': 1,\n",
       "         'Inner Mongolia': 1,\n",
       "         'Jiangsu': 1,\n",
       "         'Jiangxi': 1,\n",
       "         'Jilin': 1,\n",
       "         'Liaoning': 1,\n",
       "         'Macau': 1,\n",
       "         'Ningxia': 1,\n",
       "         'Qinghai': 1,\n",
       "         'Shaanxi': 1,\n",
       "         'Shandong': 1,\n",
       "         'Shanghai': 1,\n",
       "         'Shanxi': 1,\n",
       "         'Sichuan': 1,\n",
       "         'Taiwan': 1,\n",
       "         'Tianjin': 1,\n",
       "         'Tibet': 1,\n",
       "         'Washington': 1,\n",
       "         'Xinjiang': 1,\n",
       "         'Yunnan': 1,\n",
       "         'Zhejiang': 1,\n",
       "         nan: 11})"
      ]
     },
     "execution_count": 10,
     "metadata": {},
     "output_type": "execute_result"
    }
   ],
   "source": [
    "province_counts"
   ]
  },
  {
   "cell_type": "code",
   "execution_count": 11,
   "metadata": {},
   "outputs": [],
   "source": [
    "list_of_all_files = os.listdir()"
   ]
  },
  {
   "cell_type": "code",
   "execution_count": 24,
   "metadata": {},
   "outputs": [],
   "source": [
    "# list_of_all_files"
   ]
  },
  {
   "cell_type": "code",
   "execution_count": 13,
   "metadata": {},
   "outputs": [],
   "source": [
    "actual_list = []\n",
    "for i in list_of_all_files:\n",
    "    if \"csv\" in i:\n",
    "        actual_list.append(i)"
   ]
  },
  {
   "cell_type": "code",
   "execution_count": 61,
   "metadata": {},
   "outputs": [
    {
     "name": "stderr",
     "output_type": "stream",
     "text": [
      "100%|██████████| 61/61 [00:00<00:00, 291.88it/s]\n"
     ]
    }
   ],
   "source": [
    "main = []\n",
    "province_list = []\n",
    "country_list = []\n",
    "confirmed = []\n",
    "death_count = []\n",
    "date_list = []\n",
    "for j in tqdm(actual_list):\n",
    "    a = pd.read_csv(j)\n",
    "    for i in range(len(a)):\n",
    "        date_list.append(\"Date: \" + str(j[:-4]))\n",
    "    for i in a['Province/State']:\n",
    "        province_list.append(i)\n",
    "    for i in a['Country/Region']:\n",
    "        country_list.append(i)\n",
    "    for i in a['Confirmed']:\n",
    "        confirmed.append(i)\n",
    "    for i in a['Deaths']:\n",
    "        death_count.append(i)\n",
    "    \n",
    "    "
   ]
  },
  {
   "cell_type": "code",
   "execution_count": 62,
   "metadata": {},
   "outputs": [],
   "source": [
    "main_df = pd.DataFrame({\n",
    "    'date': date_list,\n",
    "    'state': province_list,\n",
    "    'country':country_list,\n",
    "    'confirmed_case': confirmed,\n",
    "    'death': death_count\n",
    "})"
   ]
  },
  {
   "cell_type": "code",
   "execution_count": 63,
   "metadata": {},
   "outputs": [
    {
     "data": {
      "text/plain": [
       "7926"
      ]
     },
     "execution_count": 63,
     "metadata": {},
     "output_type": "execute_result"
    }
   ],
   "source": [
    "len(death_count)"
   ]
  },
  {
   "cell_type": "code",
   "execution_count": 64,
   "metadata": {},
   "outputs": [
    {
     "data": {
      "text/plain": [
       "15"
      ]
     },
     "execution_count": 64,
     "metadata": {},
     "output_type": "execute_result"
    }
   ],
   "source": [
    "Counter(country_list)['Bangladesh']"
   ]
  },
  {
   "cell_type": "code",
   "execution_count": 72,
   "metadata": {},
   "outputs": [
    {
     "name": "stdout",
     "output_type": "stream",
     "text": [
      "Date: 03-08-2020  Confirmed Cases:  3.0  Confirmed Death:  0.0\n",
      "Date: 03-09-2020  Confirmed Cases:  3.0  Confirmed Death:  0.0\n",
      "Date: 03-10-2020  Confirmed Cases:  3.0  Confirmed Death:  0.0\n",
      "Date: 03-11-2020  Confirmed Cases:  3.0  Confirmed Death:  0.0\n",
      "Date: 03-12-2020  Confirmed Cases:  3.0  Confirmed Death:  0.0\n",
      "Date: 03-13-2020  Confirmed Cases:  3.0  Confirmed Death:  0.0\n",
      "Date: 03-14-2020  Confirmed Cases:  3.0  Confirmed Death:  0.0\n",
      "Date: 03-15-2020  Confirmed Cases:  5.0  Confirmed Death:  0.0\n",
      "Date: 03-16-2020  Confirmed Cases:  8.0  Confirmed Death:  0.0\n",
      "Date: 03-17-2020  Confirmed Cases:  10.0  Confirmed Death:  0.0\n",
      "Date: 03-18-2020  Confirmed Cases:  14.0  Confirmed Death:  1.0\n",
      "Date: 03-19-2020  Confirmed Cases:  17.0  Confirmed Death:  1.0\n",
      "Date: 03-20-2020  Confirmed Cases:  20.0  Confirmed Death:  1.0\n",
      "Date: 03-21-2020  Confirmed Cases:  25.0  Confirmed Death:  2.0\n",
      "Date: 03-22-2020  Confirmed Cases:  27.0  Confirmed Death:  2.0\n"
     ]
    }
   ],
   "source": [
    "total_confirmed_case = 0.0\n",
    "case_of_bd = []\n",
    "case_of_death_bd = []\n",
    "date_of_bd = []\n",
    "for index, row in main_df.iterrows():\n",
    "    if row['country'] == \"Bangladesh\":\n",
    "        print(row['date'], \" Confirmed Cases: \", row['confirmed_case'], \" Confirmed Death: \", row['death'])\n",
    "        total_confirmed_case += row['confirmed_case']\n",
    "        case_of_bd.append(row['confirmed_case'])\n",
    "        case_of_death_bd.append(row['death'])\n",
    "        date_of_bd.append(row['date'])\n",
    "        \n",
    "# print(total_confirmed_case)\n",
    "bd_df = pd.DataFrame({\n",
    "    'date': date_of_bd,\n",
    "    'confirmed_case': case_of_bd,\n",
    "    'death': case_of_death_bd\n",
    "})"
   ]
  },
  {
   "cell_type": "code",
   "execution_count": 131,
   "metadata": {},
   "outputs": [
    {
     "data": {
      "image/png": "[encoded data removed]",
      "text/plain": [
       "<Figure size 1440x720 with 1 Axes>"
      ]
     },
     "metadata": {},
     "output_type": "display_data"
    }
   ],
   "source": [
    "ax = plt.figure(figsize=(20,10))\n",
    "\n",
    "# Add title\n",
    "ax = plt.title(\"Confirmed Cases in Bangladesh\")\n",
    "\n",
    "\n",
    "ax = sns.barplot(y=bd_df['confirmed_case'], x=bd_df['date'], saturation = 0.4, color=\"red\")\n",
    "\n",
    "\n",
    "\n",
    "# ax = sns.color_palette(\"RdBu\", n_colors=7)\n",
    "\n",
    "ax.set_xticklabels(labels=bd_df['date'], rotation=45, ha='right')\n",
    "\n",
    "\n",
    "ax = plt.ylabel(\"Count\")"
   ]
  },
  {
   "cell_type": "code",
   "execution_count": 181,
   "metadata": {
    "scrolled": false
   },
   "outputs": [
    {
     "data": {
      "image/png": "[encoded data removed]",
      "text/plain": [
       "<Figure size 1440x720 with 1 Axes>"
      ]
     },
     "metadata": {},
     "output_type": "display_data"
    }
   ],
   "source": [
    "ax = plt.figure(figsize=(20,10))\n",
    "\n",
    "# Add title\n",
    "ax = plt.title(\"Confirmed Cases and Death Count due to COVID-19 in Bangladesh\")\n",
    "\n",
    "\n",
    "ax = sns.barplot(y=bd_df['confirmed_case'], x=bd_df['date'], saturation = 0.4, color = 'Blue', label = \"Confirmed Case\")\n",
    "\n",
    "ax = sns.barplot(x = bd_df['date'], y = bd_df['death'], color = 'red', label = \"Death Count\")\n",
    "\n",
    "ax.legend()\n",
    "\n",
    "\n",
    "\n",
    "# ax = sns.color_palette(\"RdBu\", n_colors=7)\n",
    "\n",
    "ax.set_xticklabels(labels=bd_df['date'], rotation=45, ha='right')\n",
    "\n",
    "\n",
    "ax = plt.ylabel(\"Count\")"
   ]
  },
  {
   "cell_type": "code",
   "execution_count": 185,
   "metadata": {},
   "outputs": [
    {
     "data": {
      "text/plain": [
       "[('US', 1617),\n",
       " ('Mainland China', 1517),\n",
       " ('China', 396),\n",
       " ('Australia', 323),\n",
       " ('Canada', 254),\n",
       " ('France', 127),\n",
       " ('Japan', 61),\n",
       " ('Thailand', 61),\n",
       " ('Singapore', 60),\n",
       " ('Malaysia', 59),\n",
       " ('Vietnam', 59),\n",
       " ('Nepal', 58),\n",
       " ('Cambodia', 56),\n",
       " ('Sri Lanka', 56),\n",
       " ('Germany', 55),\n",
       " ('United Kingdom', 55),\n",
       " ('United Arab Emirates', 54),\n",
       " ('Philippines', 54),\n",
       " ('Finland', 54),\n",
       " ('India', 53),\n",
       " ('Italy', 52),\n",
       " ('Sweden', 52),\n",
       " ('Russia', 51),\n",
       " ('Spain', 51),\n",
       " ('Hong Kong', 48),\n",
       " ('South Korea', 48),\n",
       " ('Taiwan', 48),\n",
       " ('Macau', 48),\n",
       " ('Belgium', 48),\n",
       " ('Denmark', 41)]"
      ]
     },
     "execution_count": 185,
     "metadata": {},
     "output_type": "execute_result"
    }
   ],
   "source": [
    "Counter(country_list).most_common(30)"
   ]
  },
  {
   "cell_type": "code",
   "execution_count": 217,
   "metadata": {},
   "outputs": [],
   "source": [
    "def specific_country(search):\n",
    "#     total_confirmed_case = 0.0\n",
    "    case_of_confirmed = []\n",
    "    case_of_death = []\n",
    "    date = []\n",
    "    state = []\n",
    "    for index, row in main_df.iterrows():\n",
    "        if row['country'] == search:\n",
    "            case_of_confirmed.append(row['confirmed_case'])\n",
    "            case_of_death.append(row['death'])\n",
    "            date.append(row['date'])\n",
    "            state.append(row['state'])\n",
    "\n",
    "    # print(total_confirmed_case)\n",
    "    bd_df = pd.DataFrame({\n",
    "        'date': date,\n",
    "        'confirmed_case': case_of_confirmed,\n",
    "        'death': case_of_death,\n",
    "        'state': state\n",
    "    })\n",
    "    \n",
    "    return bd_df"
   ]
  },
  {
   "cell_type": "code",
   "execution_count": 221,
   "metadata": {},
   "outputs": [],
   "source": [
    "bd_df = specific_country(\"Bangladesh\")"
   ]
  },
  {
   "cell_type": "code",
   "execution_count": 222,
   "metadata": {
    "scrolled": false
   },
   "outputs": [
    {
     "data": {
      "text/plain": [
       "Text(0.5, 0, 'Date')"
      ]
     },
     "execution_count": 222,
     "metadata": {},
     "output_type": "execute_result"
    },
    {
     "data": {
      "image/png": "[encoded data removed]",
      "text/plain": [
       "<Figure size 1008x432 with 1 Axes>"
      ]
     },
     "metadata": {},
     "output_type": "display_data"
    }
   ],
   "source": [
    "plt.figure(figsize=(14,6))\n",
    "\n",
    "# Add title\n",
    "plt.title(\"Daily Global Streams of Popular Songs in 2017-2018\")\n",
    "\n",
    "# Line chart showing daily global streams of each song \n",
    "sns.lineplot(data=bd_df['confirmed_case'], label=\"Confirmed Case\")\n",
    "sns.lineplot(data=bd_df['death'], label=\"Death Toll\", color = \"red\")\n",
    "# Add label for horizontal axis\n",
    "plt.xlabel(\"Date\")"
   ]
  },
  {
   "cell_type": "code",
   "execution_count": 223,
   "metadata": {},
   "outputs": [
    {
     "data": {
      "text/html": [
       "<div>\n",
       "<style scoped>\n",
       "    .dataframe tbody tr th:only-of-type {\n",
       "        vertical-align: middle;\n",
       "    }\n",
       "\n",
       "    .dataframe tbody tr th {\n",
       "        vertical-align: top;\n",
       "    }\n",
       "\n",
       "    .dataframe thead th {\n",
       "        text-align: right;\n",
       "    }\n",
       "</style>\n",
       "<table border=\"1\" class=\"dataframe\">\n",
       "  <thead>\n",
       "    <tr style=\"text-align: right;\">\n",
       "      <th></th>\n",
       "      <th>date</th>\n",
       "      <th>confirmed_case</th>\n",
       "      <th>death</th>\n",
       "      <th>state</th>\n",
       "    </tr>\n",
       "  </thead>\n",
       "  <tbody>\n",
       "    <tr>\n",
       "      <th>0</th>\n",
       "      <td>Date: 02-07-2020</td>\n",
       "      <td>2.0</td>\n",
       "      <td>0.0</td>\n",
       "      <td>Chicago, IL</td>\n",
       "    </tr>\n",
       "    <tr>\n",
       "      <th>1</th>\n",
       "      <td>Date: 02-07-2020</td>\n",
       "      <td>2.0</td>\n",
       "      <td>0.0</td>\n",
       "      <td>San Benito, CA</td>\n",
       "    </tr>\n",
       "    <tr>\n",
       "      <th>2</th>\n",
       "      <td>Date: 02-07-2020</td>\n",
       "      <td>2.0</td>\n",
       "      <td>0.0</td>\n",
       "      <td>Santa Clara, CA</td>\n",
       "    </tr>\n",
       "    <tr>\n",
       "      <th>3</th>\n",
       "      <td>Date: 02-07-2020</td>\n",
       "      <td>1.0</td>\n",
       "      <td>0.0</td>\n",
       "      <td>Boston, MA</td>\n",
       "    </tr>\n",
       "    <tr>\n",
       "      <th>4</th>\n",
       "      <td>Date: 02-07-2020</td>\n",
       "      <td>1.0</td>\n",
       "      <td>0.0</td>\n",
       "      <td>Los Angeles, CA</td>\n",
       "    </tr>\n",
       "  </tbody>\n",
       "</table>\n",
       "</div>"
      ],
      "text/plain": [
       "               date  confirmed_case  death            state\n",
       "0  Date: 02-07-2020             2.0    0.0      Chicago, IL\n",
       "1  Date: 02-07-2020             2.0    0.0   San Benito, CA\n",
       "2  Date: 02-07-2020             2.0    0.0  Santa Clara, CA\n",
       "3  Date: 02-07-2020             1.0    0.0       Boston, MA\n",
       "4  Date: 02-07-2020             1.0    0.0  Los Angeles, CA"
      ]
     },
     "execution_count": 223,
     "metadata": {},
     "output_type": "execute_result"
    }
   ],
   "source": [
    "us_df = specific_country(\"US\")\n",
    "\n",
    "us_df.head()\n"
   ]
  },
  {
   "cell_type": "code",
   "execution_count": 231,
   "metadata": {},
   "outputs": [],
   "source": [
    "# plt.figure(figsize=(14,6))\n",
    "\n",
    "# # Add title\n",
    "# plt.title(\"Daily Global Streams of Popular Songs in 2017-2018\")\n",
    "\n",
    "# # Line chart showing daily global streams of each song \n",
    "# sns.lineplot(data=us_df['confirmed_case'], label=\"Confirmed Case\")\n",
    "# sns.lineplot(data=us_df['death'], label=\"Death Toll\", color = \"red\")\n",
    "# # Add label for horizontal axis\n",
    "# plt.xlabel(\"Date\")"
   ]
  },
  {
   "cell_type": "code",
   "execution_count": 218,
   "metadata": {},
   "outputs": [],
   "source": []
  },
  {
   "cell_type": "code",
   "execution_count": null,
   "metadata": {},
   "outputs": [],
   "source": []
  }
 ],
 "metadata": {
  "kernelspec": {
   "display_name": "Python 3",
   "language": "python",
   "name": "python3"
  },
  "language_info": {
   "codemirror_mode": {
    "name": "ipython",
    "version": 3
   },
   "file_extension": ".py",
   "mimetype": "text/x-python",
   "name": "python",
   "nbconvert_exporter": "python",
   "pygments_lexer": "ipython3",
   "version": "3.7.4"
  }
 },
 "nbformat": 4,
 "nbformat_minor": 2
}
