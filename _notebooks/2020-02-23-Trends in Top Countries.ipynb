{
 "cells": [
  {
   "cell_type": "markdown",
   "metadata": {},
   "source": [
    "### This dataset has been taken from: https://github.com/CSSEGISandData/COVID-19"
   ]
  },
  {
   "cell_type": "code",
   "execution_count": 1,
   "metadata": {},
   "outputs": [],
   "source": [
    "import pandas as pd\n",
    "import os\n",
    "from collections import Counter\n",
    "from tqdm import tqdm\n",
    "%matplotlib inline\n",
    "import matplotlib.pyplot as plt\n",
    "import seaborn as sns"
   ]
  },
  {
   "cell_type": "code",
   "execution_count": 421,
   "metadata": {},
   "outputs": [
    {
     "name": "stdout",
     "output_type": "stream",
     "text": [
      "/media/thedrowsywinger/2A24A59224A56195/Poralekha/github/COVID-19/csse_covid_19_data/csse_covid_19_daily_reports\n"
     ]
    }
   ],
   "source": [
    "cd /media/thedrowsywinger/2A24A59224A56195/Poralekha/github/COVID-19/csse_covid_19_data/csse_covid_19_daily_reports"
   ]
  },
  {
   "cell_type": "code",
   "execution_count": 422,
   "metadata": {},
   "outputs": [
    {
     "name": "stdout",
     "output_type": "stream",
     "text": [
      "\u001b[0m\u001b[01;32m01-22-2020.csv\u001b[0m*  \u001b[01;32m02-07-2020.csv\u001b[0m*  \u001b[01;32m02-23-2020.csv\u001b[0m*  \u001b[01;32m03-10-2020.csv\u001b[0m*\r\n",
      "\u001b[01;32m01-23-2020.csv\u001b[0m*  \u001b[01;32m02-08-2020.csv\u001b[0m*  \u001b[01;32m02-24-2020.csv\u001b[0m*  \u001b[01;32m03-11-2020.csv\u001b[0m*\r\n",
      "\u001b[01;32m01-24-2020.csv\u001b[0m*  \u001b[01;32m02-09-2020.csv\u001b[0m*  \u001b[01;32m02-25-2020.csv\u001b[0m*  \u001b[01;32m03-12-2020.csv\u001b[0m*\r\n",
      "\u001b[01;32m01-25-2020.csv\u001b[0m*  \u001b[01;32m02-10-2020.csv\u001b[0m*  \u001b[01;32m02-26-2020.csv\u001b[0m*  \u001b[01;32m03-13-2020.csv\u001b[0m*\r\n",
      "\u001b[01;32m01-26-2020.csv\u001b[0m*  \u001b[01;32m02-11-2020.csv\u001b[0m*  \u001b[01;32m02-27-2020.csv\u001b[0m*  \u001b[01;32m03-14-2020.csv\u001b[0m*\r\n",
      "\u001b[01;32m01-27-2020.csv\u001b[0m*  \u001b[01;32m02-12-2020.csv\u001b[0m*  \u001b[01;32m02-28-2020.csv\u001b[0m*  \u001b[01;32m03-15-2020.csv\u001b[0m*\r\n",
      "\u001b[01;32m01-28-2020.csv\u001b[0m*  \u001b[01;32m02-13-2020.csv\u001b[0m*  \u001b[01;32m02-29-2020.csv\u001b[0m*  \u001b[01;32m03-16-2020.csv\u001b[0m*\r\n",
      "\u001b[01;32m01-29-2020.csv\u001b[0m*  \u001b[01;32m02-14-2020.csv\u001b[0m*  \u001b[01;32m03-01-2020.csv\u001b[0m*  \u001b[01;32m03-17-2020.csv\u001b[0m*\r\n",
      "\u001b[01;32m01-30-2020.csv\u001b[0m*  \u001b[01;32m02-15-2020.csv\u001b[0m*  \u001b[01;32m03-02-2020.csv\u001b[0m*  \u001b[01;32m03-18-2020.csv\u001b[0m*\r\n",
      "\u001b[01;32m01-31-2020.csv\u001b[0m*  \u001b[01;32m02-16-2020.csv\u001b[0m*  \u001b[01;32m03-03-2020.csv\u001b[0m*  \u001b[01;32m03-19-2020.csv\u001b[0m*\r\n",
      "\u001b[01;32m02-01-2020.csv\u001b[0m*  \u001b[01;32m02-17-2020.csv\u001b[0m*  \u001b[01;32m03-04-2020.csv\u001b[0m*  \u001b[01;32m03-20-2020.csv\u001b[0m*\r\n",
      "\u001b[01;32m02-02-2020.csv\u001b[0m*  \u001b[01;32m02-18-2020.csv\u001b[0m*  \u001b[01;32m03-05-2020.csv\u001b[0m*  \u001b[01;32m03-21-2020.csv\u001b[0m*\r\n",
      "\u001b[01;32m02-03-2020.csv\u001b[0m*  \u001b[01;32m02-19-2020.csv\u001b[0m*  \u001b[01;32m03-06-2020.csv\u001b[0m*  \u001b[01;32m03-22-2020.csv\u001b[0m*\r\n",
      "\u001b[01;32m02-04-2020.csv\u001b[0m*  \u001b[01;32m02-20-2020.csv\u001b[0m*  \u001b[01;32m03-07-2020.csv\u001b[0m*  \u001b[01;32m03-23-2020.csv\u001b[0m*\r\n",
      "\u001b[01;32m02-05-2020.csv\u001b[0m*  \u001b[01;32m02-21-2020.csv\u001b[0m*  \u001b[01;32m03-08-2020.csv\u001b[0m*  \u001b[01;32mREADME.md\u001b[0m*\r\n",
      "\u001b[01;32m02-06-2020.csv\u001b[0m*  \u001b[01;32m02-22-2020.csv\u001b[0m*  \u001b[01;32m03-09-2020.csv\u001b[0m*\r\n"
     ]
    }
   ],
   "source": [
    "ls"
   ]
  },
  {
   "cell_type": "markdown",
   "metadata": {},
   "source": [
    "What each CSV file looks like:"
   ]
  },
  {
   "cell_type": "code",
   "execution_count": 30,
   "metadata": {},
   "outputs": [
    {
     "data": {
      "text/html": [
       "<div>\n",
       "<style scoped>\n",
       "    .dataframe tbody tr th:only-of-type {\n",
       "        vertical-align: middle;\n",
       "    }\n",
       "\n",
       "    .dataframe tbody tr th {\n",
       "        vertical-align: top;\n",
       "    }\n",
       "\n",
       "    .dataframe thead th {\n",
       "        text-align: right;\n",
       "    }\n",
       "</style>\n",
       "<table border=\"1\" class=\"dataframe\">\n",
       "  <thead>\n",
       "    <tr style=\"text-align: right;\">\n",
       "      <th></th>\n",
       "      <th>Province/State</th>\n",
       "      <th>Country/Region</th>\n",
       "      <th>Last Update</th>\n",
       "      <th>Confirmed</th>\n",
       "      <th>Deaths</th>\n",
       "      <th>Recovered</th>\n",
       "    </tr>\n",
       "  </thead>\n",
       "  <tbody>\n",
       "    <tr>\n",
       "      <th>0</th>\n",
       "      <td>Anhui</td>\n",
       "      <td>Mainland China</td>\n",
       "      <td>1/22/2020 17:00</td>\n",
       "      <td>1.0</td>\n",
       "      <td>NaN</td>\n",
       "      <td>NaN</td>\n",
       "    </tr>\n",
       "    <tr>\n",
       "      <th>1</th>\n",
       "      <td>Beijing</td>\n",
       "      <td>Mainland China</td>\n",
       "      <td>1/22/2020 17:00</td>\n",
       "      <td>14.0</td>\n",
       "      <td>NaN</td>\n",
       "      <td>NaN</td>\n",
       "    </tr>\n",
       "    <tr>\n",
       "      <th>2</th>\n",
       "      <td>Chongqing</td>\n",
       "      <td>Mainland China</td>\n",
       "      <td>1/22/2020 17:00</td>\n",
       "      <td>6.0</td>\n",
       "      <td>NaN</td>\n",
       "      <td>NaN</td>\n",
       "    </tr>\n",
       "    <tr>\n",
       "      <th>3</th>\n",
       "      <td>Fujian</td>\n",
       "      <td>Mainland China</td>\n",
       "      <td>1/22/2020 17:00</td>\n",
       "      <td>1.0</td>\n",
       "      <td>NaN</td>\n",
       "      <td>NaN</td>\n",
       "    </tr>\n",
       "    <tr>\n",
       "      <th>4</th>\n",
       "      <td>Gansu</td>\n",
       "      <td>Mainland China</td>\n",
       "      <td>1/22/2020 17:00</td>\n",
       "      <td>NaN</td>\n",
       "      <td>NaN</td>\n",
       "      <td>NaN</td>\n",
       "    </tr>\n",
       "  </tbody>\n",
       "</table>\n",
       "</div>"
      ],
      "text/plain": [
       "  Province/State  Country/Region      Last Update  Confirmed  Deaths  \\\n",
       "0          Anhui  Mainland China  1/22/2020 17:00        1.0     NaN   \n",
       "1        Beijing  Mainland China  1/22/2020 17:00       14.0     NaN   \n",
       "2      Chongqing  Mainland China  1/22/2020 17:00        6.0     NaN   \n",
       "3         Fujian  Mainland China  1/22/2020 17:00        1.0     NaN   \n",
       "4          Gansu  Mainland China  1/22/2020 17:00        NaN     NaN   \n",
       "\n",
       "   Recovered  \n",
       "0        NaN  \n",
       "1        NaN  \n",
       "2        NaN  \n",
       "3        NaN  \n",
       "4        NaN  "
      ]
     },
     "execution_count": 30,
     "metadata": {},
     "output_type": "execute_result"
    }
   ],
   "source": [
    "old_sample_file = pd.read_csv(\"./01-22-2020.csv\")\n",
    "old_sample_file.head()"
   ]
  },
  {
   "cell_type": "code",
   "execution_count": 291,
   "metadata": {},
   "outputs": [],
   "source": [
    "sample_file = pd.read_csv(\"./01-23-2020.csv\")"
   ]
  },
  {
   "cell_type": "code",
   "execution_count": 294,
   "metadata": {},
   "outputs": [],
   "source": [
    "confi = list(sample_file['Confirmed'])"
   ]
  },
  {
   "cell_type": "code",
   "execution_count": 297,
   "metadata": {},
   "outputs": [
    {
     "data": {
      "text/plain": [
       "True"
      ]
     },
     "execution_count": 297,
     "metadata": {},
     "output_type": "execute_result"
    }
   ],
   "source": [
    "all(isinstance(n, float) for n in confi)"
   ]
  },
  {
   "cell_type": "code",
   "execution_count": 303,
   "metadata": {},
   "outputs": [],
   "source": [
    "import math\n"
   ]
  },
  {
   "cell_type": "code",
   "execution_count": 305,
   "metadata": {},
   "outputs": [
    {
     "data": {
      "text/plain": [
       "46"
      ]
     },
     "execution_count": 305,
     "metadata": {},
     "output_type": "execute_result"
    }
   ],
   "source": [
    "len(another)"
   ]
  },
  {
   "cell_type": "markdown",
   "metadata": {},
   "source": [
    "Combining all of the csv files"
   ]
  },
  {
   "cell_type": "code",
   "execution_count": 323,
   "metadata": {},
   "outputs": [
    {
     "name": "stderr",
     "output_type": "stream",
     "text": [
      "100%|██████████| 61/61 [00:00<00:00, 283.59it/s]\n"
     ]
    }
   ],
   "source": [
    "list_of_all_files = os.listdir()\n",
    "\n",
    "actual_list = []\n",
    "for i in list_of_all_files:\n",
    "    if \"csv\" in i:\n",
    "        actual_list.append(i)\n",
    "        \n",
    "province_list = []\n",
    "country_list = []\n",
    "confirmed = []\n",
    "death_count = []\n",
    "date_list = []\n",
    "t = len(actual_list)\n",
    "for j in tqdm(actual_list[0:t-1]):\n",
    "    a = pd.read_csv(j)\n",
    "    for i in range(len(a)):\n",
    "        date_list.append(\"Date: \" + str(j[:-4]))\n",
    "    for i in a['Province/State']:\n",
    "        province_list.append(i)\n",
    "    for i in a['Country/Region']:\n",
    "        country_list.append(i)\n",
    "    for i in a['Confirmed']:\n",
    "        confirmed.append(i)\n",
    "    for i in a['Deaths']:\n",
    "        death_count.append(i)\n",
    "        \n",
    "g = actual_list[t-1]\n",
    "n = pd.read_csv(g)\n",
    "\n",
    "for i in range(len(n)):\n",
    "    date_list.append(\"Date: \" + str(actual_list[t-1])[:-4])\n",
    "for i in n['Province_State']:\n",
    "    province_list.append(i)\n",
    "for i in n['Country_Region']:\n",
    "    country_list.append(i)\n",
    "for i in n['Confirmed']:\n",
    "    confirmed.append(i)\n",
    "for i in n['Deaths']:\n",
    "    death_count.append(i)"
   ]
  },
  {
   "cell_type": "markdown",
   "metadata": {},
   "source": [
    "Checking the lengths of all the new lists created"
   ]
  },
  {
   "cell_type": "code",
   "execution_count": 324,
   "metadata": {},
   "outputs": [
    {
     "data": {
      "text/plain": [
       "True"
      ]
     },
     "execution_count": 324,
     "metadata": {},
     "output_type": "execute_result"
    }
   ],
   "source": [
    "all(isinstance(n, int) for n in confirmed[1:10])"
   ]
  },
  {
   "cell_type": "code",
   "execution_count": 325,
   "metadata": {},
   "outputs": [],
   "source": [
    "confirmed_cases = []\n",
    "for i in confirmed:\n",
    "    if math.isnan(i):\n",
    "        a = 0\n",
    "        confirmed_cases.append(a)\n",
    "    else:\n",
    "        confirmed_cases.append(i)"
   ]
  },
  {
   "cell_type": "code",
   "execution_count": 326,
   "metadata": {},
   "outputs": [
    {
     "name": "stdout",
     "output_type": "stream",
     "text": [
      "11341\n",
      "11341\n",
      "11341\n",
      "11341\n",
      "11341\n"
     ]
    }
   ],
   "source": [
    "print(len(province_list))\n",
    "print(len(country_list))\n",
    "print(len(confirmed_cases))\n",
    "print(len(death_count))\n",
    "print(len(date_list))"
   ]
  },
  {
   "cell_type": "markdown",
   "metadata": {},
   "source": [
    "Alright looks like we are tracking everything perfectly"
   ]
  },
  {
   "cell_type": "markdown",
   "metadata": {},
   "source": [
    "Let's create the main dataframe"
   ]
  },
  {
   "cell_type": "code",
   "execution_count": 327,
   "metadata": {},
   "outputs": [],
   "source": [
    "main_df = pd.DataFrame()\n",
    "main_df['Date'] = date_list\n",
    "main_df['Country'] = country_list\n",
    "main_df['State'] = province_list\n",
    "main_df[\"Confirmed\"] = confirmed_cases\n",
    "main_df['Deaths'] = death_count"
   ]
  },
  {
   "cell_type": "markdown",
   "metadata": {},
   "source": [
    "To check that our data is still accurate: let's track the csv file of this date"
   ]
  },
  {
   "cell_type": "code",
   "execution_count": 328,
   "metadata": {},
   "outputs": [
    {
     "data": {
      "text/html": [
       "<div>\n",
       "<style scoped>\n",
       "    .dataframe tbody tr th:only-of-type {\n",
       "        vertical-align: middle;\n",
       "    }\n",
       "\n",
       "    .dataframe tbody tr th {\n",
       "        vertical-align: top;\n",
       "    }\n",
       "\n",
       "    .dataframe thead th {\n",
       "        text-align: right;\n",
       "    }\n",
       "</style>\n",
       "<table border=\"1\" class=\"dataframe\">\n",
       "  <thead>\n",
       "    <tr style=\"text-align: right;\">\n",
       "      <th></th>\n",
       "      <th>Province/State</th>\n",
       "      <th>Country/Region</th>\n",
       "      <th>Last Update</th>\n",
       "      <th>Confirmed</th>\n",
       "      <th>Deaths</th>\n",
       "      <th>Recovered</th>\n",
       "    </tr>\n",
       "  </thead>\n",
       "  <tbody>\n",
       "    <tr>\n",
       "      <th>0</th>\n",
       "      <td>Hubei</td>\n",
       "      <td>Mainland China</td>\n",
       "      <td>2020-02-07T23:43:02</td>\n",
       "      <td>24953</td>\n",
       "      <td>699</td>\n",
       "      <td>1115</td>\n",
       "    </tr>\n",
       "    <tr>\n",
       "      <th>1</th>\n",
       "      <td>Guangdong</td>\n",
       "      <td>Mainland China</td>\n",
       "      <td>2020-02-07T10:13:06</td>\n",
       "      <td>1034</td>\n",
       "      <td>1</td>\n",
       "      <td>88</td>\n",
       "    </tr>\n",
       "    <tr>\n",
       "      <th>2</th>\n",
       "      <td>Zhejiang</td>\n",
       "      <td>Mainland China</td>\n",
       "      <td>2020-02-07T11:33:11</td>\n",
       "      <td>1006</td>\n",
       "      <td>0</td>\n",
       "      <td>123</td>\n",
       "    </tr>\n",
       "    <tr>\n",
       "      <th>3</th>\n",
       "      <td>Henan</td>\n",
       "      <td>Mainland China</td>\n",
       "      <td>2020-02-07T14:03:12</td>\n",
       "      <td>914</td>\n",
       "      <td>3</td>\n",
       "      <td>86</td>\n",
       "    </tr>\n",
       "    <tr>\n",
       "      <th>4</th>\n",
       "      <td>Hunan</td>\n",
       "      <td>Mainland China</td>\n",
       "      <td>2020-02-07T11:33:11</td>\n",
       "      <td>772</td>\n",
       "      <td>0</td>\n",
       "      <td>112</td>\n",
       "    </tr>\n",
       "  </tbody>\n",
       "</table>\n",
       "</div>"
      ],
      "text/plain": [
       "  Province/State  Country/Region          Last Update  Confirmed  Deaths  \\\n",
       "0          Hubei  Mainland China  2020-02-07T23:43:02      24953     699   \n",
       "1      Guangdong  Mainland China  2020-02-07T10:13:06       1034       1   \n",
       "2       Zhejiang  Mainland China  2020-02-07T11:33:11       1006       0   \n",
       "3          Henan  Mainland China  2020-02-07T14:03:12        914       3   \n",
       "4          Hunan  Mainland China  2020-02-07T11:33:11        772       0   \n",
       "\n",
       "   Recovered  \n",
       "0       1115  \n",
       "1         88  \n",
       "2        123  \n",
       "3         86  \n",
       "4        112  "
      ]
     },
     "execution_count": 328,
     "metadata": {},
     "output_type": "execute_result"
    }
   ],
   "source": [
    "checker = pd.read_csv(\"./02-07-2020.csv\")\n",
    "checker.head()"
   ]
  },
  {
   "cell_type": "markdown",
   "metadata": {},
   "source": [
    "Looks good so far"
   ]
  },
  {
   "cell_type": "markdown",
   "metadata": {},
   "source": [
    "Top 10 countries in the records"
   ]
  },
  {
   "cell_type": "code",
   "execution_count": 329,
   "metadata": {},
   "outputs": [
    {
     "name": "stdout",
     "output_type": "stream",
     "text": [
      "US\n",
      "Mainland China\n",
      "China\n",
      "Australia\n",
      "Canada\n",
      "France\n",
      "Japan\n",
      "Thailand\n",
      "United Kingdom\n",
      "Singapore\n"
     ]
    }
   ],
   "source": [
    "top_ten = []\n",
    "for i in list(Counter(country_list).most_common(10)):\n",
    "    print(i[0])\n",
    "    top_ten.append(i[0])"
   ]
  },
  {
   "cell_type": "markdown",
   "metadata": {},
   "source": [
    "Creating a sample dataFrame to work with"
   ]
  },
  {
   "cell_type": "code",
   "execution_count": 423,
   "metadata": {},
   "outputs": [
    {
     "data": {
      "text/html": [
       "<div>\n",
       "<style scoped>\n",
       "    .dataframe tbody tr th:only-of-type {\n",
       "        vertical-align: middle;\n",
       "    }\n",
       "\n",
       "    .dataframe tbody tr th {\n",
       "        vertical-align: top;\n",
       "    }\n",
       "\n",
       "    .dataframe thead th {\n",
       "        text-align: right;\n",
       "    }\n",
       "</style>\n",
       "<table border=\"1\" class=\"dataframe\">\n",
       "  <thead>\n",
       "    <tr style=\"text-align: right;\">\n",
       "      <th></th>\n",
       "      <th>Date</th>\n",
       "      <th>Country</th>\n",
       "      <th>State</th>\n",
       "      <th>Confirmed</th>\n",
       "      <th>Deaths</th>\n",
       "    </tr>\n",
       "  </thead>\n",
       "  <tbody>\n",
       "    <tr>\n",
       "      <th>200</th>\n",
       "      <td>Date: 01-22-2020</td>\n",
       "      <td>Mainland China</td>\n",
       "      <td>Zhejiang</td>\n",
       "      <td>10.0</td>\n",
       "      <td>NaN</td>\n",
       "    </tr>\n",
       "    <tr>\n",
       "      <th>201</th>\n",
       "      <td>Date: 01-22-2020</td>\n",
       "      <td>Japan</td>\n",
       "      <td>NaN</td>\n",
       "      <td>2.0</td>\n",
       "      <td>NaN</td>\n",
       "    </tr>\n",
       "    <tr>\n",
       "      <th>202</th>\n",
       "      <td>Date: 01-22-2020</td>\n",
       "      <td>Thailand</td>\n",
       "      <td>NaN</td>\n",
       "      <td>2.0</td>\n",
       "      <td>NaN</td>\n",
       "    </tr>\n",
       "    <tr>\n",
       "      <th>203</th>\n",
       "      <td>Date: 01-22-2020</td>\n",
       "      <td>South Korea</td>\n",
       "      <td>NaN</td>\n",
       "      <td>1.0</td>\n",
       "      <td>NaN</td>\n",
       "    </tr>\n",
       "    <tr>\n",
       "      <th>204</th>\n",
       "      <td>Date: 01-23-2020</td>\n",
       "      <td>Mainland China</td>\n",
       "      <td>Anhui</td>\n",
       "      <td>9.0</td>\n",
       "      <td>NaN</td>\n",
       "    </tr>\n",
       "  </tbody>\n",
       "</table>\n",
       "</div>"
      ],
      "text/plain": [
       "                 Date         Country     State  Confirmed  Deaths\n",
       "200  Date: 01-22-2020  Mainland China  Zhejiang       10.0     NaN\n",
       "201  Date: 01-22-2020           Japan       NaN        2.0     NaN\n",
       "202  Date: 01-22-2020        Thailand       NaN        2.0     NaN\n",
       "203  Date: 01-22-2020     South Korea       NaN        1.0     NaN\n",
       "204  Date: 01-23-2020  Mainland China     Anhui        9.0     NaN"
      ]
     },
     "execution_count": 423,
     "metadata": {},
     "output_type": "execute_result"
    }
   ],
   "source": [
    "sample_df = main_df[200:350]\n",
    "sample_df.head()"
   ]
  },
  {
   "cell_type": "code",
   "execution_count": 331,
   "metadata": {},
   "outputs": [],
   "source": [
    "duplicate_dates = date_list"
   ]
  },
  {
   "cell_type": "code",
   "execution_count": 332,
   "metadata": {},
   "outputs": [],
   "source": [
    "all_dates = []\n",
    "for x in duplicate_dates:\n",
    "    if x not in all_dates:\n",
    "        all_dates.append(x)"
   ]
  },
  {
   "cell_type": "code",
   "execution_count": 333,
   "metadata": {},
   "outputs": [
    {
     "data": {
      "text/plain": [
       "62"
      ]
     },
     "execution_count": 333,
     "metadata": {},
     "output_type": "execute_result"
    }
   ],
   "source": [
    "len(all_dates)"
   ]
  },
  {
   "cell_type": "markdown",
   "metadata": {},
   "source": [
    "testing a code , that i'll later convert into a function, with the sample dataframe"
   ]
  },
  {
   "cell_type": "code",
   "execution_count": 338,
   "metadata": {},
   "outputs": [
    {
     "name": "stdout",
     "output_type": "stream",
     "text": [
      "{'Date: 02-07-2020': {}, 'Date: 02-25-2020': {}, 'Date: 01-22-2020': {'Mainland China': 10.0, 'Japan': 2.0, 'Thailand': 2.0}, 'Date: 01-23-2020': {'Mainland China': 639.0, 'US': 1.0, 'Japan': 1.0, 'Thailand': 3.0, 'Singapore': 1.0, 'Australia': 0.0}, 'Date: 01-24-2020': {'Mainland China': 916.0, 'US': 2.0, 'Japan': 2.0, 'Thailand': 5.0, 'Singapore': 3.0, 'France': 2.0}, 'Date: 01-25-2020': {'Mainland China': 1399.0, 'US': 2.0, 'Japan': 2.0, 'Thailand': 7.0, 'Singapore': 3.0, 'France': 3.0, 'Australia': 4.0}, 'Date: 01-26-2020': {'Mainland China': 1898.0}, 'Date: 01-27-2020': {}, 'Date: 01-28-2020': {}, 'Date: 01-29-2020': {}, 'Date: 01-30-2020': {}, 'Date: 01-31-2020': {}, 'Date: 02-01-2020': {}, 'Date: 02-02-2020': {}, 'Date: 02-03-2020': {}, 'Date: 02-04-2020': {}, 'Date: 02-05-2020': {}, 'Date: 02-06-2020': {}, 'Date: 02-08-2020': {}, 'Date: 02-09-2020': {}, 'Date: 02-10-2020': {}, 'Date: 02-11-2020': {}, 'Date: 02-12-2020': {}, 'Date: 02-13-2020': {}, 'Date: 02-14-2020': {}, 'Date: 02-15-2020': {}, 'Date: 02-16-2020': {}, 'Date: 02-17-2020': {}, 'Date: 02-18-2020': {}, 'Date: 02-19-2020': {}, 'Date: 02-20-2020': {}, 'Date: 02-21-2020': {}, 'Date: 02-22-2020': {}, 'Date: 02-23-2020': {}, 'Date: 02-24-2020': {}, 'Date: 02-26-2020': {}, 'Date: 02-27-2020': {}, 'Date: 02-28-2020': {}, 'Date: 02-29-2020': {}, 'Date: 03-01-2020': {}, 'Date: 03-02-2020': {}, 'Date: 03-03-2020': {}, 'Date: 03-04-2020': {}, 'Date: 03-05-2020': {}, 'Date: 03-06-2020': {}, 'Date: 03-07-2020': {}, 'Date: 03-08-2020': {}, 'Date: 03-09-2020': {}, 'Date: 03-10-2020': {}, 'Date: 03-11-2020': {}, 'Date: 03-12-2020': {}, 'Date: 03-13-2020': {}, 'Date: 03-14-2020': {}, 'Date: 03-15-2020': {}, 'Date: 03-16-2020': {}, 'Date: 03-17-2020': {}, 'Date: 03-18-2020': {}, 'Date: 03-19-2020': {}, 'Date: 03-20-2020': {}, 'Date: 03-21-2020': {}, 'Date: 03-22-2020': {}, 'Date: 03-23-2020': {}}\n"
     ]
    }
   ],
   "source": [
    "all_date_dictionary = {}\n",
    "\n",
    "for i in all_dates:\n",
    "#     print(\"Searching for:\", i)\n",
    "    country_list = []\n",
    "    confirmed_case = []\n",
    "    for column, row in sample_df.iterrows():\n",
    "        if i == row[\"Date\"]:\n",
    "            if row[\"Country\"] in top_ten:\n",
    "                if len(country_list) == 0:\n",
    "                    country_list.append(row[\"Country\"])\n",
    "                    confirmed_case.append(row[\"Confirmed\"])\n",
    "                else:\n",
    "                    if row[\"Country\"] in country_list:\n",
    "                        search = country_list.index(row[\"Country\"])\n",
    "                        confirmed_case[search] += row[\"Confirmed\"]\n",
    "                    else:\n",
    "                        country_list.append(row[\"Country\"])\n",
    "                        confirmed_case.append(row[\"Confirmed\"])\n",
    "\n",
    "    temp_dictionary = {}\n",
    "    for j in range(len(country_list)):\n",
    "        temp_dictionary[country_list[j]] = confirmed_case[j]\n",
    "    all_date_dictionary[i] = temp_dictionary\n",
    "\n",
    "print(all_date_dictionary)"
   ]
  },
  {
   "cell_type": "code",
   "execution_count": 377,
   "metadata": {},
   "outputs": [],
   "source": [
    "def date_dictionary(sample_df, all_dates, top_ten):\n",
    "    all_date_dictionary = {}\n",
    "\n",
    "    for i in all_dates:\n",
    "        country_list = top_ten\n",
    "        confirmed_case = [0] * len(top_ten)\n",
    "        for column, row in sample_df.iterrows():\n",
    "            if i == row[\"Date\"]:\n",
    "                if row[\"Country\"] in top_ten:\n",
    "                    if row[\"Country\"] in country_list:\n",
    "                        search = country_list.index(row[\"Country\"])\n",
    "                        confirmed_case[search] += row[\"Confirmed\"]\n",
    "                    else:\n",
    "                        pass                        \n",
    "\n",
    "        temp_dictionary = {}\n",
    "        for j in range(len(country_list)):\n",
    "            temp_dictionary[country_list[j]] = confirmed_case[j]\n",
    "        all_date_dictionary[i] = temp_dictionary\n",
    "        \n",
    "    return all_date_dictionary\n"
   ]
  },
  {
   "cell_type": "code",
   "execution_count": 378,
   "metadata": {},
   "outputs": [],
   "source": [
    "a = date_dictionary(main_df, all_dates, top_ten)\n"
   ]
  },
  {
   "cell_type": "markdown",
   "metadata": {},
   "source": [
    "So the dictionary works, time to create a dataframe"
   ]
  },
  {
   "cell_type": "code",
   "execution_count": 395,
   "metadata": {},
   "outputs": [],
   "source": [
    "trend_df = pd.DataFrame()"
   ]
  },
  {
   "cell_type": "code",
   "execution_count": 396,
   "metadata": {},
   "outputs": [],
   "source": [
    "d_list = []\n",
    "for key, value in a.items():\n",
    "    d_list.append(key)"
   ]
  },
  {
   "cell_type": "code",
   "execution_count": 397,
   "metadata": {},
   "outputs": [
    {
     "data": {
      "text/plain": [
       "62"
      ]
     },
     "execution_count": 397,
     "metadata": {},
     "output_type": "execute_result"
    }
   ],
   "source": [
    "len(d_list)"
   ]
  },
  {
   "cell_type": "markdown",
   "metadata": {},
   "source": [
    "I need to get the case per date for all 62 dates in all the top countries"
   ]
  },
  {
   "cell_type": "code",
   "execution_count": 399,
   "metadata": {},
   "outputs": [
    {
     "data": {
      "text/plain": [
       "{'US': 35.0,\n",
       " 'Mainland China': 76938.0,\n",
       " 'China': 0,\n",
       " 'Australia': 22.0,\n",
       " 'Canada': 9.0,\n",
       " 'France': 12.0,\n",
       " 'Japan': 147.0,\n",
       " 'Thailand': 35.0,\n",
       " 'United Kingdom': 0,\n",
       " 'Singapore': 89.0}"
      ]
     },
     "execution_count": 399,
     "metadata": {},
     "output_type": "execute_result"
    }
   ],
   "source": [
    "a['Date: 02-23-2020'] # this shows i have case data on each date of each country"
   ]
  },
  {
   "cell_type": "markdown",
   "metadata": {},
   "source": [
    "So i guess i could have done this in an easier way, but .... oh well"
   ]
  },
  {
   "cell_type": "code",
   "execution_count": 400,
   "metadata": {},
   "outputs": [],
   "source": [
    "country_dictionary = {}\n",
    "for i in top_ten:\n",
    "    case_per_date = []\n",
    "    for key,value in a.items():\n",
    "        for k,v in value.items():\n",
    "            if i == k:\n",
    "                case_per_date.append(v)\n",
    "    country_dictionary[i] = case_per_date"
   ]
  },
  {
   "cell_type": "markdown",
   "metadata": {},
   "source": [
    "I just created a dictionary, where each key is the name of a country, and the value is a 62 length list containing the number of cases on each day"
   ]
  },
  {
   "cell_type": "markdown",
   "metadata": {},
   "source": [
    "Alright, back to the data frame"
   ]
  },
  {
   "cell_type": "code",
   "execution_count": 404,
   "metadata": {},
   "outputs": [],
   "source": [
    "trend_df[\"Date\"] = d_list\n",
    "for key, value in country_dictionary.items():\n",
    "    trend_df[key] = value"
   ]
  },
  {
   "cell_type": "code",
   "execution_count": 405,
   "metadata": {},
   "outputs": [
    {
     "data": {
      "text/html": [
       "<div>\n",
       "<style scoped>\n",
       "    .dataframe tbody tr th:only-of-type {\n",
       "        vertical-align: middle;\n",
       "    }\n",
       "\n",
       "    .dataframe tbody tr th {\n",
       "        vertical-align: top;\n",
       "    }\n",
       "\n",
       "    .dataframe thead th {\n",
       "        text-align: right;\n",
       "    }\n",
       "</style>\n",
       "<table border=\"1\" class=\"dataframe\">\n",
       "  <thead>\n",
       "    <tr style=\"text-align: right;\">\n",
       "      <th></th>\n",
       "      <th>Date</th>\n",
       "      <th>US</th>\n",
       "      <th>Mainland China</th>\n",
       "      <th>China</th>\n",
       "      <th>Australia</th>\n",
       "      <th>Canada</th>\n",
       "      <th>France</th>\n",
       "      <th>Japan</th>\n",
       "      <th>Thailand</th>\n",
       "      <th>United Kingdom</th>\n",
       "      <th>Singapore</th>\n",
       "    </tr>\n",
       "  </thead>\n",
       "  <tbody>\n",
       "    <tr>\n",
       "      <th>0</th>\n",
       "      <td>Date: 02-07-2020</td>\n",
       "      <td>12.0</td>\n",
       "      <td>34075.0</td>\n",
       "      <td>0.0</td>\n",
       "      <td>15.0</td>\n",
       "      <td>7.0</td>\n",
       "      <td>6.0</td>\n",
       "      <td>25.0</td>\n",
       "      <td>25.0</td>\n",
       "      <td>0.0</td>\n",
       "      <td>30.0</td>\n",
       "    </tr>\n",
       "    <tr>\n",
       "      <th>1</th>\n",
       "      <td>Date: 02-25-2020</td>\n",
       "      <td>53.0</td>\n",
       "      <td>77660.0</td>\n",
       "      <td>0.0</td>\n",
       "      <td>22.0</td>\n",
       "      <td>11.0</td>\n",
       "      <td>14.0</td>\n",
       "      <td>170.0</td>\n",
       "      <td>37.0</td>\n",
       "      <td>0.0</td>\n",
       "      <td>91.0</td>\n",
       "    </tr>\n",
       "    <tr>\n",
       "      <th>2</th>\n",
       "      <td>Date: 01-22-2020</td>\n",
       "      <td>1.0</td>\n",
       "      <td>547.0</td>\n",
       "      <td>0.0</td>\n",
       "      <td>0.0</td>\n",
       "      <td>0.0</td>\n",
       "      <td>0.0</td>\n",
       "      <td>2.0</td>\n",
       "      <td>2.0</td>\n",
       "      <td>0.0</td>\n",
       "      <td>0.0</td>\n",
       "    </tr>\n",
       "    <tr>\n",
       "      <th>3</th>\n",
       "      <td>Date: 01-23-2020</td>\n",
       "      <td>1.0</td>\n",
       "      <td>639.0</td>\n",
       "      <td>0.0</td>\n",
       "      <td>0.0</td>\n",
       "      <td>0.0</td>\n",
       "      <td>0.0</td>\n",
       "      <td>1.0</td>\n",
       "      <td>3.0</td>\n",
       "      <td>0.0</td>\n",
       "      <td>1.0</td>\n",
       "    </tr>\n",
       "    <tr>\n",
       "      <th>4</th>\n",
       "      <td>Date: 01-24-2020</td>\n",
       "      <td>2.0</td>\n",
       "      <td>916.0</td>\n",
       "      <td>0.0</td>\n",
       "      <td>0.0</td>\n",
       "      <td>0.0</td>\n",
       "      <td>2.0</td>\n",
       "      <td>2.0</td>\n",
       "      <td>5.0</td>\n",
       "      <td>0.0</td>\n",
       "      <td>3.0</td>\n",
       "    </tr>\n",
       "  </tbody>\n",
       "</table>\n",
       "</div>"
      ],
      "text/plain": [
       "               Date    US  Mainland China  China  Australia  Canada  France  \\\n",
       "0  Date: 02-07-2020  12.0         34075.0    0.0       15.0     7.0     6.0   \n",
       "1  Date: 02-25-2020  53.0         77660.0    0.0       22.0    11.0    14.0   \n",
       "2  Date: 01-22-2020   1.0           547.0    0.0        0.0     0.0     0.0   \n",
       "3  Date: 01-23-2020   1.0           639.0    0.0        0.0     0.0     0.0   \n",
       "4  Date: 01-24-2020   2.0           916.0    0.0        0.0     0.0     2.0   \n",
       "\n",
       "   Japan  Thailand  United Kingdom  Singapore  \n",
       "0   25.0      25.0             0.0       30.0  \n",
       "1  170.0      37.0             0.0       91.0  \n",
       "2    2.0       2.0             0.0        0.0  \n",
       "3    1.0       3.0             0.0        1.0  \n",
       "4    2.0       5.0             0.0        3.0  "
      ]
     },
     "execution_count": 405,
     "metadata": {},
     "output_type": "execute_result"
    }
   ],
   "source": [
    "trend_df.head()"
   ]
  },
  {
   "cell_type": "markdown",
   "metadata": {},
   "source": [
    "Phew! Alhamdulillah"
   ]
  },
  {
   "cell_type": "markdown",
   "metadata": {},
   "source": [
    "I can finally go to plotting"
   ]
  },
  {
   "cell_type": "code",
   "execution_count": 416,
   "metadata": {},
   "outputs": [
    {
     "data": {
      "image/png": "[encoded data removed]",
      "text/plain": [
       "<Figure size 1440x720 with 1 Axes>"
      ]
     },
     "metadata": {
      "needs_background": "light"
     },
     "output_type": "display_data"
    }
   ],
   "source": [
    "ax = plt.figure(figsize=(20,10))\n",
    "\n",
    "# Add title\n",
    "ax = plt.title(\"Trend of COVID-19 confirmed cases in the most affected countries\")\n",
    "\n",
    "for i in top_ten:\n",
    "    ax = sns.lineplot(y = trend_df[i], x = trend_df['Date'], label = i)\n",
    "\n",
    "ax.legend()\n",
    "\n",
    "\n",
    "\n",
    "# ax = sns.color_palette(\"RdBu\", n_colors=7)\n",
    "\n",
    "ax.set_xticklabels(labels=trend_df['Date'], rotation=45, ha='right')\n",
    "\n",
    "\n",
    "ax = plt.ylabel(\"Count\")"
   ]
  },
  {
   "cell_type": "markdown",
   "metadata": {},
   "source": [
    "Gosh that spike of Mainland China, Let's verify"
   ]
  },
  {
   "cell_type": "code",
   "execution_count": 415,
   "metadata": {},
   "outputs": [
    {
     "data": {
      "text/html": [
       "<div>\n",
       "<style scoped>\n",
       "    .dataframe tbody tr th:only-of-type {\n",
       "        vertical-align: middle;\n",
       "    }\n",
       "\n",
       "    .dataframe tbody tr th {\n",
       "        vertical-align: top;\n",
       "    }\n",
       "\n",
       "    .dataframe thead th {\n",
       "        text-align: right;\n",
       "    }\n",
       "</style>\n",
       "<table border=\"1\" class=\"dataframe\">\n",
       "  <thead>\n",
       "    <tr style=\"text-align: right;\">\n",
       "      <th></th>\n",
       "      <th>Province/State</th>\n",
       "      <th>Country/Region</th>\n",
       "      <th>Last Update</th>\n",
       "      <th>Confirmed</th>\n",
       "      <th>Deaths</th>\n",
       "      <th>Recovered</th>\n",
       "    </tr>\n",
       "  </thead>\n",
       "  <tbody>\n",
       "    <tr>\n",
       "      <th>0</th>\n",
       "      <td>Hubei</td>\n",
       "      <td>Mainland China</td>\n",
       "      <td>2020-02-19T23:23:02</td>\n",
       "      <td>62031</td>\n",
       "      <td>2029</td>\n",
       "      <td>10337</td>\n",
       "    </tr>\n",
       "    <tr>\n",
       "      <th>1</th>\n",
       "      <td>Guangdong</td>\n",
       "      <td>Mainland China</td>\n",
       "      <td>2020-02-19T10:23:02</td>\n",
       "      <td>1331</td>\n",
       "      <td>5</td>\n",
       "      <td>606</td>\n",
       "    </tr>\n",
       "    <tr>\n",
       "      <th>2</th>\n",
       "      <td>Henan</td>\n",
       "      <td>Mainland China</td>\n",
       "      <td>2020-02-19T12:13:08</td>\n",
       "      <td>1262</td>\n",
       "      <td>19</td>\n",
       "      <td>573</td>\n",
       "    </tr>\n",
       "    <tr>\n",
       "      <th>3</th>\n",
       "      <td>Zhejiang</td>\n",
       "      <td>Mainland China</td>\n",
       "      <td>2020-02-19T11:33:02</td>\n",
       "      <td>1174</td>\n",
       "      <td>0</td>\n",
       "      <td>604</td>\n",
       "    </tr>\n",
       "    <tr>\n",
       "      <th>4</th>\n",
       "      <td>Hunan</td>\n",
       "      <td>Mainland China</td>\n",
       "      <td>2020-02-19T11:33:02</td>\n",
       "      <td>1008</td>\n",
       "      <td>4</td>\n",
       "      <td>561</td>\n",
       "    </tr>\n",
       "  </tbody>\n",
       "</table>\n",
       "</div>"
      ],
      "text/plain": [
       "  Province/State  Country/Region          Last Update  Confirmed  Deaths  \\\n",
       "0          Hubei  Mainland China  2020-02-19T23:23:02      62031    2029   \n",
       "1      Guangdong  Mainland China  2020-02-19T10:23:02       1331       5   \n",
       "2          Henan  Mainland China  2020-02-19T12:13:08       1262      19   \n",
       "3       Zhejiang  Mainland China  2020-02-19T11:33:02       1174       0   \n",
       "4          Hunan  Mainland China  2020-02-19T11:33:02       1008       4   \n",
       "\n",
       "   Recovered  \n",
       "0      10337  \n",
       "1        606  \n",
       "2        573  \n",
       "3        604  \n",
       "4        561  "
      ]
     },
     "execution_count": 415,
     "metadata": {},
     "output_type": "execute_result"
    }
   ],
   "source": [
    "old_sample_file = pd.read_csv(\"./02-19-2020.csv\")\n",
    "old_sample_file.head()"
   ]
  },
  {
   "cell_type": "markdown",
   "metadata": {},
   "source": [
    "Whoa"
   ]
  },
  {
   "cell_type": "markdown",
   "metadata": {},
   "source": [
    "I understand this graph is really unintuitive, will try to make it more user friendly"
   ]
  },
  {
   "cell_type": "markdown",
   "metadata": {},
   "source": [
    "I also created this other dictionary, it was a dead end for this task, but might be helpful later"
   ]
  },
  {
   "cell_type": "code",
   "execution_count": 419,
   "metadata": {},
   "outputs": [],
   "source": [
    "def dictionary_output(sample_df, top_ten):\n",
    "    new_country_list = []\n",
    "    new_state_list = []\n",
    "    new_confirmed_list = []\n",
    "    new_death_list = []\n",
    "    new_date_list = []\n",
    "\n",
    "    top_country_dictionary = {}\n",
    "\n",
    "    for i in top_ten:\n",
    "        counter = 0\n",
    "        date_list = []\n",
    "        temp = []\n",
    "        print(\"Searching for: \", i)\n",
    "        for column , row in sample_df.iterrows():\n",
    "            if i == row[\"Country\"]:\n",
    "    #             print(\"Found a match!\")\n",
    "    #             print(\"Current\", row['Date'], \"Confirmed cases: \", row['Confirmed'])\n",
    "                if len(date_list) == 0:\n",
    "                    date_list.append(row[\"Date\"])\n",
    "                    temp.append(row['Confirmed'])\n",
    "                else:\n",
    "                    if date_list[-1] == row[\"Date\"]:\n",
    "                        if type(row[\"Confirmed\"]) == type(float('nan')):\n",
    "                            temp[-1] += 0\n",
    "                        else:\n",
    "                            temp[-1]+=row[\"Confirmed\"]\n",
    "                    else:\n",
    "                        date_list.append(row[\"Date\"])\n",
    "                        temp.append(row['Confirmed'])\n",
    "                        \n",
    "            date_dictionary = {}\n",
    "        for j in range(len(date_list)):\n",
    "            date_dictionary[date_list[j]] = temp[j]\n",
    "        top_country_dictionary[i] = date_dictionary\n",
    "    return top_country_dictionary"
   ]
  },
  {
   "cell_type": "code",
   "execution_count": 420,
   "metadata": {},
   "outputs": [
    {
     "name": "stdout",
     "output_type": "stream",
     "text": [
      "Searching for:  US\n",
      "Searching for:  Mainland China\n",
      "Searching for:  China\n",
      "Searching for:  Australia\n",
      "Searching for:  Canada\n",
      "Searching for:  France\n",
      "Searching for:  Japan\n",
      "Searching for:  Thailand\n",
      "Searching for:  United Kingdom\n",
      "Searching for:  Singapore\n"
     ]
    }
   ],
   "source": [
    "a = dictionary_output(main_df, top_ten)"
   ]
  },
  {
   "cell_type": "code",
   "execution_count": null,
   "metadata": {},
   "outputs": [],
   "source": []
  },
  {
   "cell_type": "code",
   "execution_count": null,
   "metadata": {},
   "outputs": [],
   "source": []
  }
 ],
 "metadata": {
  "kernelspec": {
   "display_name": "Python 3",
   "language": "python",
   "name": "python3"
  },
  "language_info": {
   "codemirror_mode": {
    "name": "ipython",
    "version": 3
   },
   "file_extension": ".py",
   "mimetype": "text/x-python",
   "name": "python",
   "nbconvert_exporter": "python",
   "pygments_lexer": "ipython3",
   "version": "3.7.4"
  }
 },
 "nbformat": 4,
 "nbformat_minor": 2
}
