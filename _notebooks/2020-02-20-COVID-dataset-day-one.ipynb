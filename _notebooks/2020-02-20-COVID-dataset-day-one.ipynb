{
 "cells": [
  {
   "cell_type": "code",
   "execution_count": 1,
   "metadata": {},
   "outputs": [],
   "source": [
    "import pandas as pd\n",
    "import seaborn as sns\n",
    "import json\n",
    "import matplotlib.pyplot as plt\n",
    "from tqdm import tqdm\n",
    "from collections import Counter\n",
    "import re\n",
    "from nltk.corpus import stopwords "
   ]
  },
  {
   "cell_type": "code",
   "execution_count": 2,
   "metadata": {},
   "outputs": [],
   "source": [
    "reading_metadata = pd.read_csv(\"./metadata.csv\")"
   ]
  },
  {
   "cell_type": "code",
   "execution_count": 3,
   "metadata": {},
   "outputs": [],
   "source": [
    "title_list = []\n",
    "for i in reading_metadata['title']:\n",
    "    title_list.append(i)"
   ]
  },
  {
   "cell_type": "code",
   "execution_count": 4,
   "metadata": {},
   "outputs": [
    {
     "data": {
      "text/plain": [
       "44220"
      ]
     },
     "execution_count": 4,
     "metadata": {},
     "output_type": "execute_result"
    }
   ],
   "source": [
    "len(title_list)"
   ]
  },
  {
   "cell_type": "code",
   "execution_count": 5,
   "metadata": {},
   "outputs": [
    {
     "name": "stderr",
     "output_type": "stream",
     "text": [
      "100%|██████████| 44220/44220 [00:00<00:00, 103482.46it/s]\n"
     ]
    }
   ],
   "source": [
    "words_list = []\n",
    "for i in tqdm(title_list):\n",
    "#     print(i)\n",
    "    words = str(i).split(\" \")\n",
    "    for j in words:\n",
    "        words_list.append(j.lower())"
   ]
  },
  {
   "cell_type": "code",
   "execution_count": 6,
   "metadata": {},
   "outputs": [
    {
     "name": "stdout",
     "output_type": "stream",
     "text": [
      "Number of words in text file : 545436\n"
     ]
    }
   ],
   "source": [
    "print('Number of words in text file :', len(words_list))"
   ]
  },
  {
   "cell_type": "code",
   "execution_count": 7,
   "metadata": {},
   "outputs": [
    {
     "name": "stderr",
     "output_type": "stream",
     "text": [
      "100%|██████████| 545436/545436 [00:00<00:00, 849738.42it/s]\n"
     ]
    }
   ],
   "source": [
    "stop_words = set(stopwords.words('english'))\n",
    "filtered = []\n",
    "for w in tqdm(words_list): \n",
    "    if w not in stop_words: \n",
    "        filtered.append(w) "
   ]
  },
  {
   "cell_type": "code",
   "execution_count": 8,
   "metadata": {},
   "outputs": [
    {
     "name": "stderr",
     "output_type": "stream",
     "text": [
      "100%|██████████| 401569/401569 [00:00<00:00, 1096184.26it/s]\n"
     ]
    }
   ],
   "source": [
    "frequency_dictionary = {} \n",
    "  \n",
    "for keys in tqdm(filtered): \n",
    "    frequency_dictionary[keys] = frequency_dictionary.get(keys, 0) + 1"
   ]
  },
  {
   "cell_type": "code",
   "execution_count": 9,
   "metadata": {},
   "outputs": [
    {
     "data": {
      "text/plain": [
       "[('virus', 6691),\n",
       " ('respiratory', 4753),\n",
       " ('coronavirus', 4224),\n",
       " ('infection', 3088),\n",
       " ('viral', 2694),\n",
       " ('human', 2510),\n",
       " ('protein', 2284),\n",
       " ('influenza', 2226),\n",
       " ('disease', 2199),\n",
       " ('acute', 2030),\n",
       " ('syndrome', 2027),\n",
       " ('infectious', 1912),\n",
       " ('novel', 1761),\n",
       " ('health', 1662),\n",
       " ('cells', 1568),\n",
       " ('chapter', 1522),\n",
       " ('infections', 1519),\n",
       " ('detection', 1517),\n",
       " ('viruses', 1513),\n",
       " ('analysis', 1433),\n",
       " ('rna', 1382),\n",
       " ('severe', 1313),\n",
       " ('cell', 1281),\n",
       " ('study', 1206),\n",
       " ('porcine', 1183),\n",
       " ('clinical', 1133),\n",
       " ('patients', 1100),\n",
       " ('sars', 1021),\n",
       " ('diseases', 1020),\n",
       " ('vaccine', 1010)]"
      ]
     },
     "execution_count": 9,
     "metadata": {},
     "output_type": "execute_result"
    }
   ],
   "source": [
    "word_counts = Counter(filtered)\n",
    "word_counts.most_common(30)"
   ]
  },
  {
   "cell_type": "code",
   "execution_count": null,
   "metadata": {},
   "outputs": [],
   "source": []
  }
 ],
 "metadata": {
  "kernelspec": {
   "display_name": "Python 3",
   "language": "python",
   "name": "python3"
  },
  "language_info": {
   "codemirror_mode": {
    "name": "ipython",
    "version": 3
   },
   "file_extension": ".py",
   "mimetype": "text/x-python",
   "name": "python",
   "nbconvert_exporter": "python",
   "pygments_lexer": "ipython3",
   "version": "3.7.4"
  }
 },
 "nbformat": 4,
 "nbformat_minor": 2
}
